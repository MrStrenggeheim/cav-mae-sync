{
 "cells": [
  {
   "cell_type": "code",
   "execution_count": 47,
   "id": "4dca837d",
   "metadata": {},
   "outputs": [],
   "source": [
    "cls_path = \"/storage/slurm/schnackl/fakesync/cav-mae-sync/outputs/mavos/cls_test\""
   ]
  },
  {
   "cell_type": "code",
   "execution_count": 48,
   "id": "54836872",
   "metadata": {},
   "outputs": [],
   "source": [
    "import pickle as pkl\n",
    "import os\n",
    "import pandas as pd\n",
    "import torch\n",
    "import numpy as np"
   ]
  },
  {
   "cell_type": "code",
   "execution_count": 50,
   "id": "cd890749",
   "metadata": {},
   "outputs": [
    {
     "name": "stdout",
     "output_type": "stream",
     "text": [
      "loadeing forward_embeddings_51.pkl\n"
     ]
    }
   ],
   "source": [
    "logs = []\n",
    "files = os.listdir(cls_path)\n",
    "for file in files[1:2]:\n",
    "    if file.endswith(\".pkl\"):\n",
    "        print(\"loadeing\", file)\n",
    "        data = pkl.load(open(os.path.join(cls_path, file), \"rb\"))\n",
    "        logs.append(data)\n",
    "        break"
   ]
  },
  {
   "cell_type": "code",
   "execution_count": 51,
   "id": "33ff2916",
   "metadata": {},
   "outputs": [],
   "source": [
    "df = pd.DataFrame()\n",
    "for batch in logs:\n",
    "    df = pd.concat([df, pd.DataFrame(batch)], ignore_index=True)\n",
    "\n",
    "# sample size\n",
    "df = df.sample(n=32, random_state=42)"
   ]
  },
  {
   "cell_type": "code",
   "execution_count": 52,
   "id": "9732e6b7",
   "metadata": {},
   "outputs": [
    {
     "data": {
      "text/plain": [
       "array([[-0.6255353 , -0.2896561 ,  0.9363634 , ...,  0.38927025,\n",
       "        -0.11336314,  0.33513626],\n",
       "       [-0.0824845 ,  0.4499269 ,  1.0495034 , ...,  0.41022667,\n",
       "         0.3120757 , -0.23783581],\n",
       "       [-0.0824845 ,  0.4499269 ,  1.0495034 , ...,  0.41022667,\n",
       "         0.3120757 , -0.23783581],\n",
       "       ...,\n",
       "       [-0.0824845 ,  0.4499269 ,  1.0495034 , ...,  0.41022667,\n",
       "         0.3120757 , -0.23783581],\n",
       "       [-0.0824845 ,  0.4499269 ,  1.0495034 , ...,  0.41022667,\n",
       "         0.3120757 , -0.23783581],\n",
       "       [-0.0824845 ,  0.4499269 ,  1.0495034 , ...,  0.41022667,\n",
       "         0.3120757 , -0.23783581]], shape=(16, 768), dtype=float32)"
      ]
     },
     "execution_count": 52,
     "metadata": {},
     "output_type": "execute_result"
    }
   ],
   "source": [
    "df.cls_a.iloc[0]"
   ]
  },
  {
   "cell_type": "code",
   "execution_count": 53,
   "id": "b27c87ce",
   "metadata": {},
   "outputs": [
    {
     "name": "stdout",
     "output_type": "stream",
     "text": [
      "video_name /storage/slurm/schnackl/fakesync/data/mavosdd/dataset/english/hififace/12798-MJd6Y50hfAM_51_1.mp4\n",
      "label tensor([0., 1.])\n",
      "audio_out (16, 512, 768)\n",
      "video_out (16, 196, 768)\n",
      "cls_a (16, 768)\n",
      "cls_v (16, 768)\n"
     ]
    }
   ],
   "source": [
    "for col in df.columns:\n",
    "    print(col, df[col].iloc[0].shape if isinstance(df[col].iloc[0], np.ndarray) else df[col].iloc[0])"
   ]
  },
  {
   "cell_type": "code",
   "execution_count": 54,
   "id": "078e771a",
   "metadata": {},
   "outputs": [],
   "source": [
    "cls_v = torch.tensor(df.cls_v.iloc[0])\n",
    "cls_a = torch.tensor(df.cls_a.iloc[0])"
   ]
  },
  {
   "cell_type": "code",
   "execution_count": 55,
   "id": "65b45a33",
   "metadata": {},
   "outputs": [
    {
     "name": "stdout",
     "output_type": "stream",
     "text": [
      "tensor([[0.0000, 0.0000, 0.0000,  ..., 0.0000, 0.0000, 0.0000],\n",
      "        [0.0138, 0.0094, 0.0020,  ..., 0.0143, 0.0096, 0.0001],\n",
      "        [0.0156, 0.0040, 0.0083,  ..., 0.0246, 0.0084, 0.0026],\n",
      "        ...,\n",
      "        [0.0237, 0.0010, 0.0190,  ..., 0.0121, 0.0030, 0.0053],\n",
      "        [0.0068, 0.0100, 0.0139,  ..., 0.0052, 0.0056, 0.0043],\n",
      "        [0.0255, 0.0328, 0.0126,  ..., 0.0137, 0.0253, 0.0175]])\n",
      "tensor([[0.0000, 0.0000, 0.0000,  ..., 0.0000, 0.0000, 0.0000],\n",
      "        [0.5431, 0.7396, 0.1131,  ..., 0.0210, 0.4254, 0.5730],\n",
      "        [0.5431, 0.7396, 0.1131,  ..., 0.0210, 0.4254, 0.5730],\n",
      "        ...,\n",
      "        [0.5431, 0.7396, 0.1131,  ..., 0.0210, 0.4254, 0.5730],\n",
      "        [0.5431, 0.7396, 0.1131,  ..., 0.0210, 0.4254, 0.5730],\n",
      "        [0.5431, 0.7396, 0.1131,  ..., 0.0210, 0.4254, 0.5730]])\n",
      "tensor([[-0.6255, -0.2897,  0.9364,  ...,  0.3893, -0.1134,  0.3351],\n",
      "        [-0.0825,  0.4499,  1.0495,  ...,  0.4102,  0.3121, -0.2378],\n",
      "        [-0.0825,  0.4499,  1.0495,  ...,  0.4102,  0.3121, -0.2378],\n",
      "        ...,\n",
      "        [-0.0825,  0.4499,  1.0495,  ...,  0.4102,  0.3121, -0.2378],\n",
      "        [-0.0825,  0.4499,  1.0495,  ...,  0.4102,  0.3121, -0.2378],\n",
      "        [-0.0825,  0.4499,  1.0495,  ...,  0.4102,  0.3121, -0.2378]])\n"
     ]
    }
   ],
   "source": [
    "print((cls_v[0:16] - cls_v[0]).abs())\n",
    "print((cls_a[0:16] - cls_a[0]).abs())\n",
    "print(cls_a)\n",
    "# print(torch.allclose(video_flat[0], video_flat[1]))"
   ]
  },
  {
   "cell_type": "code",
   "execution_count": 56,
   "id": "20fd30c6",
   "metadata": {},
   "outputs": [
    {
     "data": {
      "text/plain": [
       "array([-1.16425164e-01,  4.03702945e-01,  1.04243219e+00, -1.37786937e+00,\n",
       "        3.18865657e-01, -6.46461129e-01,  5.03460526e-01, -2.18162775e+00,\n",
       "        8.14958096e-01,  4.74931151e-01, -9.27579463e-01, -1.05475295e+00,\n",
       "        1.47869158e+00,  7.84361899e-01, -1.49940237e-01, -1.18942845e+00,\n",
       "       -6.70245349e-01,  4.46898907e-01,  1.58900797e+00,  9.49644387e-01,\n",
       "        5.38232744e-01, -2.61872202e-01, -1.02022219e+00,  1.27468967e+00,\n",
       "       -6.96475338e-03,  2.03807831e-01, -1.99147654e+00, -1.15411556e+00,\n",
       "       -4.90417719e-01, -7.21097410e-01, -1.20005794e-01,  7.48672485e-01,\n",
       "       -8.50442171e-01,  4.61481661e-01,  1.02311778e+00,  1.09392381e+00,\n",
       "       -3.10824251e+00,  2.13565278e+00,  2.69956678e-01, -1.06194496e+00,\n",
       "        4.65631753e-01,  9.64828908e-01, -1.21112382e+00,  9.51535642e-01,\n",
       "       -3.50985360e+00, -8.75271320e-01, -1.39202356e-01,  1.46860850e+00,\n",
       "       -1.55629718e+00, -1.11753333e+00, -4.54930335e-01,  9.79359448e-03,\n",
       "        1.47233307e-01,  3.98157351e-02, -6.91821218e-01, -7.52601266e-01,\n",
       "       -1.29390192e+00,  2.56196439e-01,  1.81201303e+00, -2.74893016e-01,\n",
       "       -5.73761046e-01, -6.35143638e-01,  1.48463324e-01, -1.30195343e+00,\n",
       "        2.15161896e+00, -2.54806727e-01, -7.83069581e-02,  9.51823354e-01,\n",
       "        9.84872878e-02, -1.33490384e+00,  4.70757604e-01, -3.24347198e-01,\n",
       "       -4.79537658e-02, -1.76591134e+00, -7.72043467e-01,  6.95035815e-01,\n",
       "        2.04115105e+00,  2.92427182e-01, -7.05310941e-01,  1.81290054e+00,\n",
       "       -8.72552752e-01, -2.60867059e-01,  7.88192451e-01,  3.14257050e+00,\n",
       "        2.15648450e-02, -6.17489696e-01,  7.74545372e-01,  1.55778062e+00,\n",
       "       -1.38906971e-01, -9.19718206e-01,  4.14107502e-01, -1.83384836e-01,\n",
       "       -1.81441396e-01,  2.83835679e-02, -8.56569171e-01,  2.43953824e-01,\n",
       "        3.67944658e-01,  1.98216096e-01,  1.47050798e+00,  4.15239573e-01,\n",
       "        1.06092736e-01,  1.38630557e+00,  1.10920787e+00,  2.56343246e+00,\n",
       "       -1.98393548e+00,  6.24120593e-01,  1.21987343e+00, -3.60676914e-01,\n",
       "       -1.26868427e-01,  8.30301166e-01, -1.12519845e-01, -1.25625193e+00,\n",
       "        5.84747612e-01, -7.15337157e-01,  3.18157971e-01,  9.19485986e-01,\n",
       "       -8.85247767e-01,  8.31762433e-01, -1.08275461e+00, -1.50655568e-01,\n",
       "        5.30344307e-01,  1.70264053e+00,  6.63395941e-01,  1.31475806e-01,\n",
       "       -4.40626383e-01,  1.03756011e+00, -7.20950305e-01,  1.61335230e-01,\n",
       "        9.70603228e-01,  7.43533075e-02, -4.99056019e-02, -8.55876863e-01,\n",
       "        6.71947062e-01, -2.06355125e-01,  1.37857950e+00, -9.50728714e-01,\n",
       "        1.11823380e-01,  1.94914520e-01, -1.20541942e+00,  1.46129265e-01,\n",
       "       -1.32371023e-01, -1.17440569e+00, -6.09831333e-01, -9.52821299e-02,\n",
       "        2.11626664e-01, -2.08332849e+00, -1.71183795e-01, -2.45807484e-01,\n",
       "        9.46970224e-01, -5.68209827e-01,  5.95072687e-01,  5.17923474e-01,\n",
       "       -2.55757856e+00, -1.46627640e-02,  1.00472689e+00,  8.85916412e-01,\n",
       "       -1.00526190e+00,  2.89527822e+00, -3.15713286e-01,  5.94790326e-03,\n",
       "       -2.05458093e+00, -3.53705212e-02, -1.17342800e-01, -1.72226667e+00,\n",
       "        1.03951693e+00,  2.65528001e-02, -1.30865061e+00,  2.00039768e+00,\n",
       "       -7.05386817e-01, -2.51140207e-01,  4.24633116e-01, -1.19460773e+00,\n",
       "       -5.76498926e-01, -1.16852701e+00, -1.55371606e-01, -4.09610868e-01,\n",
       "       -8.74028444e-01, -1.13260508e+00,  1.06129348e+00, -2.25077391e+00,\n",
       "       -1.81039810e+00,  7.11215377e-01, -4.89553273e-01,  2.17858359e-01,\n",
       "       -1.76405227e+00, -1.00550997e+00, -1.32635272e+00, -1.37625301e+00,\n",
       "        1.23773372e+00, -1.32203817e+00, -2.16935110e+00, -1.98789239e-01,\n",
       "        1.53294849e+00,  2.94409871e-01, -1.49694955e+00,  1.64972150e+00,\n",
       "       -3.06897461e-01,  4.61878210e-01,  4.23252761e-01,  8.94384682e-01,\n",
       "       -3.51988934e-02, -1.72137237e+00, -4.12132233e-01, -4.55662698e-01,\n",
       "       -8.98679078e-01, -6.19370461e-01, -2.54315943e-01,  1.17195451e+00,\n",
       "        2.54022658e-01, -1.17851281e+00,  7.70366251e-01, -1.27492952e+00,\n",
       "        1.95490193e+00,  7.68017650e-01, -2.21114039e+00,  1.07956457e+00,\n",
       "        8.09906244e-01,  4.47454751e-01,  9.03604031e-01,  6.88664258e-01,\n",
       "        1.13956475e+00,  1.21043362e-01, -1.50520647e+00, -2.84539890e+00,\n",
       "        4.83142793e-01, -1.23351967e+00, -5.14384449e-01,  1.11892366e+00,\n",
       "       -5.53864360e-01, -1.59370154e-02, -3.41817051e-01,  9.36976016e-01,\n",
       "       -5.23595989e-01,  1.05043900e+00,  2.66382992e-01,  7.95018315e-01,\n",
       "       -3.07291240e-01,  2.33982348e+00,  1.69196427e-02,  1.12415934e+00,\n",
       "        5.71044326e-01,  1.17966592e+00, -1.76847100e+00,  3.85682195e-01,\n",
       "        1.87311375e+00, -3.70278299e-01,  1.09884965e+00, -7.57913411e-01,\n",
       "        2.16220275e-01,  9.43104446e-01,  3.66180837e-01, -1.60699934e-01,\n",
       "        2.64243167e-02,  8.59871864e-01, -2.60250425e+00,  1.41123116e+00,\n",
       "       -8.58839631e-01,  4.43360686e-01,  8.71607363e-01,  1.43609655e+00,\n",
       "        1.01896539e-01,  7.49397635e-01,  8.91800523e-01,  2.40509003e-01,\n",
       "       -1.43084121e+00,  1.64996907e-01, -1.34682849e-01, -1.29649138e+00,\n",
       "        4.30011004e-01, -1.18783796e+00, -7.45565653e-01, -1.10033834e+00,\n",
       "        2.32742265e-01,  8.66401494e-01, -1.55125022e+00, -4.28506583e-01,\n",
       "        1.52603626e+00, -9.01437819e-01, -1.92798901e+00,  4.79955614e-01,\n",
       "       -1.78304708e+00, -1.37256622e+00, -7.00864375e-01, -1.23345353e-01,\n",
       "        6.17250621e-01,  1.45821345e+00, -4.77658600e-01, -2.50338960e+00,\n",
       "        1.15311563e+00, -9.57593173e-02, -2.13010564e-01,  1.38698714e-02,\n",
       "        2.91663557e-01,  1.63439524e+00,  4.10264954e-02, -1.90867558e-01,\n",
       "        7.62002349e-01, -1.46125233e+00,  1.29132307e+00,  4.07297611e-01,\n",
       "       -9.41420913e-01,  1.24934278e-01, -1.18916601e-01,  9.94491816e-01,\n",
       "        6.71126127e-01,  9.20649022e-02,  1.77430823e-01, -6.90447465e-02,\n",
       "       -7.05544055e-01,  1.96110442e-01,  1.14492022e-01,  9.57697570e-01,\n",
       "        2.80845203e-02, -1.15930939e+00,  7.73516655e-01,  5.40890634e-01,\n",
       "       -1.04065311e+00, -1.46620643e+00, -1.02157295e+00,  7.53738046e-01,\n",
       "       -2.75606811e-01,  8.23603690e-01,  1.15212548e+00, -7.12676525e-01,\n",
       "       -1.67766488e+00,  1.74475774e-01,  2.31413901e-01,  1.52557284e-01,\n",
       "        1.07115448e+00,  1.43627989e+00, -2.82504797e-01, -6.64557397e-01,\n",
       "        9.25003827e-01, -4.09177005e-01,  2.09411478e+00,  2.37230882e-01,\n",
       "       -1.45428348e+00, -4.58558440e-01, -1.08833179e-01,  1.94252014e-01,\n",
       "       -2.19546884e-01, -7.51812100e-01, -6.48118332e-02, -1.77103505e-01,\n",
       "        4.68315393e-01,  2.70836741e-01, -2.52847690e-02, -4.68481719e-01,\n",
       "        1.41883874e+00,  7.35601261e-02,  1.94425917e+00, -1.28759468e+00,\n",
       "        1.04385662e+00,  1.13165998e+00, -4.63553339e-01, -3.86065334e-01,\n",
       "       -2.59221375e-01, -1.54412031e-01, -8.46758261e-02,  1.07283199e+00,\n",
       "        7.21331000e-01,  3.06225777e-01,  1.62776113e-02,  1.54873049e-02,\n",
       "        1.50648987e+00,  5.59874058e-01, -3.89143378e-01, -3.67787600e-01,\n",
       "        5.85213006e-01,  1.50562775e+00, -2.84045130e-01,  1.73845840e+00,\n",
       "        2.81557679e-01, -2.56398022e-01,  1.18162894e+00, -6.54265940e-01,\n",
       "        4.56402302e-01, -4.42307517e-02,  6.75144613e-01,  6.55324087e-02,\n",
       "        1.22354078e+00,  9.77954715e-02,  9.71169919e-02,  2.48030961e-01,\n",
       "       -1.55709040e+00, -1.07728887e+00, -1.39384019e+00, -1.68337330e-01,\n",
       "        2.03926921e+00,  1.02900755e+00, -6.06069386e-01, -1.35665131e+00,\n",
       "       -1.79299146e-01,  8.24087381e-01,  7.40566611e-01, -1.75419122e-01,\n",
       "       -4.23176706e-01, -1.54687262e+00, -6.50265157e-01,  1.49679139e-01,\n",
       "       -9.44250584e-01, -6.74715221e-01, -5.45460880e-02, -5.22459388e-01,\n",
       "       -1.82399035e-01, -4.98976231e-01, -1.25245643e+00, -1.35479078e-01,\n",
       "        4.71660346e-01, -5.46661139e-01, -7.37113714e-01, -1.19074047e+00,\n",
       "       -1.01055968e+00,  2.56155044e-01, -9.91057083e-02,  9.06134069e-01,\n",
       "       -4.24065173e-01, -5.37729383e-01, -9.99993861e-01,  1.60737443e+00,\n",
       "        1.68997020e-01,  5.84195793e-01, -1.30972981e+00,  1.24824536e+00,\n",
       "        2.14894676e+00, -1.07359385e+00, -1.94010492e-02, -1.20803499e+00,\n",
       "        2.72718459e-01, -9.10310745e-01, -1.37710214e+00, -4.58396435e-01,\n",
       "       -1.24942100e+00, -1.16012311e+00, -4.41544086e-01,  7.22486258e-01,\n",
       "       -2.05379248e+00,  2.35585630e-01, -6.15027137e-02,  5.77988811e-02,\n",
       "       -4.16433156e-01, -8.08731496e-01, -8.36492479e-01, -3.53014618e-01,\n",
       "        2.71871924e-01, -3.09210122e-01, -3.42400730e-01,  3.06286775e-02,\n",
       "        2.25200844e+00, -3.11983883e-01,  8.71560335e-01, -5.48488423e-02,\n",
       "        6.69983700e-02,  7.36434519e-01, -1.69181418e+00,  5.90801954e-01,\n",
       "        1.88473415e+00, -5.06492794e-01, -1.49088696e-01,  5.58454156e-01,\n",
       "       -2.31026959e+00,  1.54999804e+00,  2.36212671e-01, -1.28872216e-01,\n",
       "        4.28970248e-01, -1.46031106e+00,  3.03899109e-01,  3.31955791e-01,\n",
       "        1.20235646e+00, -1.23048283e-01, -6.53946459e-01,  9.50726211e-01,\n",
       "       -9.76004303e-01,  4.07043993e-01, -3.23143639e-02,  1.04674363e+00,\n",
       "        1.83670640e+00,  2.37489551e-01, -1.04952097e+00, -1.37252641e+00,\n",
       "       -9.79904532e-01, -4.89323556e-01,  5.16072940e-03,  1.88545138e-01,\n",
       "        1.71114951e-02, -8.65502208e-02, -4.25855033e-02,  8.17547381e-01,\n",
       "       -1.78703094e+00,  2.73887277e-01, -6.87969506e-01,  6.71570837e-01,\n",
       "       -9.47538078e-01, -1.11055779e+00,  3.37432995e-02, -1.07301414e+00,\n",
       "       -2.78154761e-01,  1.21552181e+00, -1.85036182e+00,  3.54558498e-01,\n",
       "        1.54800260e+00,  1.12259932e-01,  3.55161756e-01, -9.90549445e-01,\n",
       "       -9.53273773e-01, -9.85229313e-01,  2.56423950e+00,  1.41133845e+00,\n",
       "        6.48066819e-01,  2.91708082e-01,  1.01646459e+00, -1.30588865e+00,\n",
       "        2.77401134e-03,  5.77380836e-01,  6.22124732e-01, -6.46831334e-01,\n",
       "       -6.02576315e-01,  6.06993556e-01, -5.71573138e-01,  3.30819637e-02,\n",
       "        9.35344219e-01, -1.04058993e+00,  3.93710434e-01, -3.83653194e-01,\n",
       "       -7.81592607e-01, -7.86492348e-01,  3.09342891e-01, -4.11860734e-01,\n",
       "        2.70575851e-01, -1.52712655e+00,  8.98280084e-01,  1.37269354e+00,\n",
       "       -5.92246592e-01, -1.06887758e+00,  5.43985665e-01,  9.35461149e-02,\n",
       "        2.47788072e-01,  6.98816776e-01, -2.15053988e+00,  2.03831494e-01,\n",
       "        6.24383688e-01,  5.72668374e-01, -1.29092604e-01, -9.66921210e-01,\n",
       "        1.06944770e-01, -1.26428998e+00,  3.75154726e-02,  6.12995744e-01,\n",
       "        1.92369962e+00, -1.71166909e+00,  1.26863003e+00, -7.27804899e-01,\n",
       "        4.10261095e-01,  3.41362841e-02,  4.51086730e-01, -1.06864743e-01,\n",
       "        1.80728629e-01,  2.51067191e-01, -2.37059546e+00, -1.20782459e+00,\n",
       "        1.28970891e-01, -7.85457253e-01, -1.29632682e-01,  1.11482561e+00,\n",
       "        7.83600807e-01, -1.21411037e+00,  1.41877934e-01,  1.46566465e-01,\n",
       "        6.72152400e-01,  1.11371255e+00,  1.09764254e+00, -3.50898623e-01,\n",
       "        1.30121803e+00,  1.67728215e-01,  8.03411722e-01, -8.95875871e-01,\n",
       "        2.86755085e-01,  2.48383224e-01,  1.01973677e+00, -6.37142509e-02,\n",
       "        1.91047394e+00, -1.12330690e-01, -9.28514004e-01,  6.30650818e-01,\n",
       "       -1.91267288e+00,  3.38019252e-01,  8.60049725e-02, -1.61660516e+00,\n",
       "       -8.45145762e-01, -5.00992000e-01,  6.49235308e-01, -3.72324556e-01,\n",
       "        1.03716671e+00,  2.50828922e-01,  1.28006423e+00,  6.82034552e-01,\n",
       "       -1.57909501e+00,  5.02777636e-01, -9.78069663e-01,  1.13156414e+00,\n",
       "        7.75739372e-01,  4.27751951e-02, -4.17658210e-01, -1.78285170e+00,\n",
       "        7.07887053e-01, -1.01430535e+00,  8.21240485e-01,  1.91924229e-01,\n",
       "        6.04268730e-01, -7.96507478e-01,  5.88963985e-01,  2.17997178e-01,\n",
       "        6.31662965e-01,  8.34972560e-02,  7.48083174e-01,  2.03675222e+00,\n",
       "       -1.44533128e-01, -6.04242086e-01, -1.17527342e+00,  3.99170876e-01,\n",
       "        5.79857171e-01, -9.83505771e-02,  1.70642054e+00,  5.24904132e-01,\n",
       "        3.18522990e-01,  3.54668796e-01,  1.76568556e+00, -1.72624636e+00,\n",
       "       -1.73889697e+00,  2.67600918e+00, -1.53596163e+00,  1.17148328e+00,\n",
       "        8.71517658e-01,  5.02288759e-01, -1.29348838e+00, -7.41820514e-01,\n",
       "       -2.66483068e-01,  5.82519650e-01,  6.59401059e-01,  2.68900919e+00,\n",
       "        9.50579822e-01,  1.49380577e+00,  9.71187558e-03, -4.10119176e-01,\n",
       "        4.43791509e-01, -5.98242044e-01,  2.21783012e-01,  7.61964560e-01,\n",
       "        2.41202164e+00,  1.01073754e+00,  1.59153268e-01,  3.57858568e-01,\n",
       "       -8.96086693e-01, -4.37497228e-01,  4.55239445e-01,  1.22811365e+00,\n",
       "        1.18031435e-01, -1.29106152e+00,  2.74862587e-01, -4.93360788e-01,\n",
       "        1.92407799e+00, -1.49055648e+00, -3.01365346e-01,  1.84191608e+00,\n",
       "       -7.10176229e-01,  1.08860826e+00, -1.19074368e+00,  1.41257000e+00,\n",
       "       -6.39858842e-01,  1.08080733e+00, -1.93736225e-01,  1.64966062e-01,\n",
       "        9.85053182e-02, -1.08351910e+00,  2.43182078e-01, -1.94260967e+00,\n",
       "       -1.20994473e+00,  1.25671339e+00, -1.18749714e+00,  6.50967598e-01,\n",
       "       -2.25693655e+00,  7.45340884e-01,  7.21846521e-01,  7.73975104e-02,\n",
       "        1.61572349e+00,  7.46466279e-01,  2.15390518e-01, -5.91346204e-01,\n",
       "       -2.12041116e+00,  2.06293607e+00,  5.19480765e-01,  9.73465919e-01,\n",
       "       -2.63344139e-01,  1.20607102e+00,  3.70809555e-01, -9.41447556e-01,\n",
       "        8.79780296e-03,  4.26424593e-01,  6.26243055e-01,  1.41835248e+00,\n",
       "       -1.74523532e+00,  1.44752175e-01,  5.86890280e-02,  8.12078834e-01,\n",
       "        1.90794027e+00,  1.55764830e+00, -2.06576511e-01,  7.70777687e-02,\n",
       "       -1.17012024e+00,  6.19920671e-01, -7.38660395e-01, -5.17028451e-01,\n",
       "        2.89135844e-01, -1.08898483e-01, -2.58093596e-01, -2.27540874e+00,\n",
       "       -8.96995604e-01, -2.94987112e-01,  2.67348945e-01,  6.90329671e-01,\n",
       "       -7.13447452e-01, -5.13366461e-01, -1.73687160e+00, -1.85638773e+00,\n",
       "       -8.56626153e-01,  3.23514491e-02,  3.13700438e-01,  4.15793806e-01,\n",
       "       -1.18714526e-01, -9.52241600e-01,  1.63734764e-01, -7.53737867e-01,\n",
       "        2.30869532e-01, -3.53936166e-01,  1.32912278e+00, -5.27913086e-02,\n",
       "        4.19367582e-01,  1.99739665e-01, -5.73431909e-01, -6.93004429e-01,\n",
       "        7.57021546e-01,  4.08968657e-01, -6.16557598e-01, -5.95053554e-01,\n",
       "        1.27348304e-01, -4.08260733e-01, -8.01257610e-01,  4.82589930e-01,\n",
       "       -9.66329277e-01,  9.54040706e-01, -8.03478062e-01,  3.90514344e-01,\n",
       "       -1.60852984e-01,  5.97422719e-01,  2.03433323e+00,  8.74420404e-01,\n",
       "       -5.85424602e-02, -2.99464285e-01,  2.27669597e-01, -1.13962121e-01,\n",
       "        6.37592077e-01, -9.89136219e-01,  4.96243834e-01, -1.16121387e+00,\n",
       "        8.46821368e-01,  4.08916920e-01,  2.85485744e-01, -2.02025071e-01],\n",
       "      dtype=float32)"
      ]
     },
     "execution_count": 56,
     "metadata": {},
     "output_type": "execute_result"
    }
   ],
   "source": [
    "np.mean(df.cls_a.iloc[0], axis=0)\n",
    "# only first entry similar"
   ]
  },
  {
   "cell_type": "code",
   "execution_count": null,
   "id": "0b777f38",
   "metadata": {},
   "outputs": [
    {
     "data": {
      "text/html": [
       "<div>\n",
       "<style scoped>\n",
       "    .dataframe tbody tr th:only-of-type {\n",
       "        vertical-align: middle;\n",
       "    }\n",
       "\n",
       "    .dataframe tbody tr th {\n",
       "        vertical-align: top;\n",
       "    }\n",
       "\n",
       "    .dataframe thead th {\n",
       "        text-align: right;\n",
       "    }\n",
       "</style>\n",
       "<table border=\"1\" class=\"dataframe\">\n",
       "  <thead>\n",
       "    <tr style=\"text-align: right;\">\n",
       "      <th></th>\n",
       "      <th>video_name</th>\n",
       "      <th>label</th>\n",
       "      <th>audio_out</th>\n",
       "      <th>video_out</th>\n",
       "      <th>cls_a</th>\n",
       "      <th>cls_v</th>\n",
       "    </tr>\n",
       "  </thead>\n",
       "  <tbody>\n",
       "    <tr>\n",
       "      <th>52</th>\n",
       "      <td>/storage/slurm/schnackl/fakesync/data/mavosdd/...</td>\n",
       "      <td>[tensor(1.), tensor(0.)]</td>\n",
       "      <td>[[[-0.19894058, -0.8609357, 0.8028482, -1.1313...</td>\n",
       "      <td>[[[-1.1269327, -1.4672871, -0.13683648, 0.8355...</td>\n",
       "      <td>[[-0.62150526, -0.4241253, 0.9617543, -0.90936...</td>\n",
       "      <td>[[-0.3705514, -0.7080845, -0.18156578, -0.2195...</td>\n",
       "    </tr>\n",
       "    <tr>\n",
       "      <th>58</th>\n",
       "      <td>/storage/slurm/schnackl/fakesync/data/mavosdd/...</td>\n",
       "      <td>[tensor(0.), tensor(1.)]</td>\n",
       "      <td>[[[-0.9225807, -0.81439304, 0.25333524, -1.717...</td>\n",
       "      <td>[[[-1.0257769, -1.1024891, -2.0295758, -2.4635...</td>\n",
       "      <td>[[-0.9083925, -0.8277528, 0.66208553, -0.95981...</td>\n",
       "      <td>[[-0.8415613, -0.5722408, -1.5394307, -3.16460...</td>\n",
       "    </tr>\n",
       "    <tr>\n",
       "      <th>0</th>\n",
       "      <td>/storage/slurm/schnackl/fakesync/data/mavosdd/...</td>\n",
       "      <td>[tensor(0.), tensor(1.)]</td>\n",
       "      <td>[[[-0.5589631, -0.84041363, 0.70586246, -1.324...</td>\n",
       "      <td>[[[-0.6951295, -1.1830536, 0.24808078, 0.99645...</td>\n",
       "      <td>[[-0.9936347, -0.9553155, 0.80656016, -1.11417...</td>\n",
       "      <td>[[-0.34558532, -0.39571723, 0.44039652, 0.1345...</td>\n",
       "    </tr>\n",
       "    <tr>\n",
       "      <th>44</th>\n",
       "      <td>/storage/slurm/schnackl/fakesync/data/mavosdd/...</td>\n",
       "      <td>[tensor(1.), tensor(0.)]</td>\n",
       "      <td>[[[-0.3732348, -0.9131247, 0.48985234, -1.1005...</td>\n",
       "      <td>[[[-1.1135234, -1.6787611, -0.50823045, -0.213...</td>\n",
       "      <td>[[-0.5680794, -0.4946795, 0.9680055, -0.913018...</td>\n",
       "      <td>[[-0.7581869, -1.0679979, -0.18304187, -0.6920...</td>\n",
       "    </tr>\n",
       "    <tr>\n",
       "      <th>5</th>\n",
       "      <td>/storage/slurm/schnackl/fakesync/data/mavosdd/...</td>\n",
       "      <td>[tensor(0.), tensor(1.)]</td>\n",
       "      <td>[[[-0.6651619, -0.45286945, 0.48892394, -1.049...</td>\n",
       "      <td>[[[-0.56534547, -1.581292, 0.09792678, 1.49972...</td>\n",
       "      <td>[[-0.5029565, -0.12100143, 0.98296005, -1.0419...</td>\n",
       "      <td>[[-0.26788437, -0.94541115, 0.20680577, 0.9553...</td>\n",
       "    </tr>\n",
       "  </tbody>\n",
       "</table>\n",
       "</div>"
      ],
      "text/plain": [
       "                                           video_name  \\\n",
       "52  /storage/slurm/schnackl/fakesync/data/mavosdd/...   \n",
       "58  /storage/slurm/schnackl/fakesync/data/mavosdd/...   \n",
       "0   /storage/slurm/schnackl/fakesync/data/mavosdd/...   \n",
       "44  /storage/slurm/schnackl/fakesync/data/mavosdd/...   \n",
       "5   /storage/slurm/schnackl/fakesync/data/mavosdd/...   \n",
       "\n",
       "                       label  \\\n",
       "52  [tensor(1.), tensor(0.)]   \n",
       "58  [tensor(0.), tensor(1.)]   \n",
       "0   [tensor(0.), tensor(1.)]   \n",
       "44  [tensor(1.), tensor(0.)]   \n",
       "5   [tensor(0.), tensor(1.)]   \n",
       "\n",
       "                                            audio_out  \\\n",
       "52  [[[-0.19894058, -0.8609357, 0.8028482, -1.1313...   \n",
       "58  [[[-0.9225807, -0.81439304, 0.25333524, -1.717...   \n",
       "0   [[[-0.5589631, -0.84041363, 0.70586246, -1.324...   \n",
       "44  [[[-0.3732348, -0.9131247, 0.48985234, -1.1005...   \n",
       "5   [[[-0.6651619, -0.45286945, 0.48892394, -1.049...   \n",
       "\n",
       "                                            video_out  \\\n",
       "52  [[[-1.1269327, -1.4672871, -0.13683648, 0.8355...   \n",
       "58  [[[-1.0257769, -1.1024891, -2.0295758, -2.4635...   \n",
       "0   [[[-0.6951295, -1.1830536, 0.24808078, 0.99645...   \n",
       "44  [[[-1.1135234, -1.6787611, -0.50823045, -0.213...   \n",
       "5   [[[-0.56534547, -1.581292, 0.09792678, 1.49972...   \n",
       "\n",
       "                                                cls_a  \\\n",
       "52  [[-0.62150526, -0.4241253, 0.9617543, -0.90936...   \n",
       "58  [[-0.9083925, -0.8277528, 0.66208553, -0.95981...   \n",
       "0   [[-0.9936347, -0.9553155, 0.80656016, -1.11417...   \n",
       "44  [[-0.5680794, -0.4946795, 0.9680055, -0.913018...   \n",
       "5   [[-0.5029565, -0.12100143, 0.98296005, -1.0419...   \n",
       "\n",
       "                                                cls_v  \n",
       "52  [[-0.3705514, -0.7080845, -0.18156578, -0.2195...  \n",
       "58  [[-0.8415613, -0.5722408, -1.5394307, -3.16460...  \n",
       "0   [[-0.34558532, -0.39571723, 0.44039652, 0.1345...  \n",
       "44  [[-0.7581869, -1.0679979, -0.18304187, -0.6920...  \n",
       "5   [[-0.26788437, -0.94541115, 0.20680577, 0.9553...  "
      ]
     },
     "execution_count": 24,
     "metadata": {},
     "output_type": "execute_result"
    }
   ],
   "source": [
    "df.head()"
   ]
  },
  {
   "cell_type": "code",
   "execution_count": null,
   "id": "fcb72310",
   "metadata": {},
   "outputs": [
    {
     "data": {
      "text/plain": [
       "array([[-0.62150526, -0.4241253 ,  0.9617543 , ...,  0.42458194,\n",
       "        -0.04021762,  0.36957574],\n",
       "       [-0.0824845 ,  0.4499269 ,  1.0495034 , ...,  0.41022667,\n",
       "         0.3120757 , -0.23783581],\n",
       "       [-0.0824845 ,  0.4499269 ,  1.0495034 , ...,  0.41022667,\n",
       "         0.3120757 , -0.23783581],\n",
       "       ...,\n",
       "       [-0.0824845 ,  0.4499269 ,  1.0495034 , ...,  0.41022667,\n",
       "         0.3120757 , -0.23783581],\n",
       "       [-0.0824845 ,  0.4499269 ,  1.0495034 , ...,  0.41022667,\n",
       "         0.3120757 , -0.23783581],\n",
       "       [-0.0824845 ,  0.4499269 ,  1.0495034 , ...,  0.41022667,\n",
       "         0.3120757 , -0.23783581]], shape=(16, 768), dtype=float32)"
      ]
     },
     "execution_count": 46,
     "metadata": {},
     "output_type": "execute_result"
    }
   ],
   "source": [
    "df.cls_a.iloc[0]"
   ]
  },
  {
   "cell_type": "code",
   "execution_count": null,
   "id": "23f5051f",
   "metadata": {},
   "outputs": [
    {
     "data": {
      "text/plain": [
       "(16, 768)"
      ]
     },
     "execution_count": 32,
     "metadata": {},
     "output_type": "execute_result"
    }
   ],
   "source": [
    "df.cls_a.iloc[0].shape"
   ]
  },
  {
   "cell_type": "code",
   "execution_count": null,
   "id": "69db585b",
   "metadata": {},
   "outputs": [
    {
     "data": {
      "text/plain": [
       "array([[-0.02553898, -0.02631318, -0.03099363, -0.02823321, -0.02573715],\n",
       "       [-0.01313349, -0.01366069, -0.02165243, -0.01948981, -0.01130225],\n",
       "       [-0.01313349, -0.01366069, -0.02165243, -0.01948981, -0.01130225],\n",
       "       [-0.01313349, -0.01366069, -0.02165243, -0.01948981, -0.01130225],\n",
       "       [-0.01313349, -0.01366069, -0.02165243, -0.01948981, -0.01130225]],\n",
       "      dtype=float32)"
      ]
     },
     "execution_count": 42,
     "metadata": {},
     "output_type": "execute_result"
    }
   ],
   "source": [
    "# import cosine similarity\n",
    "from sklearn.metrics.pairwise import cosine_similarity\n",
    "# do per time step the cosine sim between cls_a and cls_b\n",
    "cos_sim = cosine_similarity(\n",
    "    np.array(df.cls_a.iloc[0]),\n",
    "    np.array(df.cls_v.iloc[0])\n",
    ")\n"
   ]
  },
  {
   "cell_type": "code",
   "execution_count": null,
   "id": "7f5d061e",
   "metadata": {},
   "outputs": [
    {
     "data": {
      "text/plain": [
       "array([-0.02553897, -0.0136607 , -0.02165243, -0.01948981, -0.01130225,\n",
       "       -0.0131823 , -0.01242083, -0.01579013, -0.0151884 , -0.0117459 ,\n",
       "       -0.00958932, -0.00958308, -0.00955123, -0.00924379, -0.0106106 ,\n",
       "       -0.01052123], dtype=float32)"
      ]
     },
     "execution_count": 34,
     "metadata": {},
     "output_type": "execute_result"
    }
   ],
   "source": [
    "import numpy as np\n",
    "A = np.array(df.cls_a.iloc[0])  # shape (T, D)\n",
    "V = np.array(df.cls_v.iloc[0])  # shape (T, D)\n",
    "# A, V: shape (T, D)\n",
    "A_norm = A / np.linalg.norm(A, axis=1, keepdims=True)\n",
    "V_norm = V / np.linalg.norm(V, axis=1, keepdims=True)\n",
    "\n",
    "# elementwise dot product across features → cosine similarity per timestep\n",
    "similarities = np.sum(A_norm * V_norm, axis=1)  # shape (T,)\n",
    "similarities"
   ]
  },
  {
   "cell_type": "code",
   "execution_count": null,
   "id": "b11faafa",
   "metadata": {},
   "outputs": [],
   "source": [
    "import random"
   ]
  },
  {
   "cell_type": "code",
   "execution_count": null,
   "id": "388bf331",
   "metadata": {},
   "outputs": [
    {
     "ename": "KeyError",
     "evalue": "4",
     "output_type": "error",
     "traceback": [
      "\u001b[31m---------------------------------------------------------------------------\u001b[39m",
      "\u001b[31mKeyError\u001b[39m                                  Traceback (most recent call last)",
      "\u001b[36mCell\u001b[39m\u001b[36m \u001b[39m\u001b[32mIn[217]\u001b[39m\u001b[32m, line 1\u001b[39m\n\u001b[32m----> \u001b[39m\u001b[32m1\u001b[39m a = \u001b[43mlogs\u001b[49m\u001b[43m[\u001b[49m\u001b[32;43m0\u001b[39;49m\u001b[43m]\u001b[49m\u001b[43m[\u001b[49m\u001b[32;43m4\u001b[39;49m\u001b[43m]\u001b[49m\n\u001b[32m      2\u001b[39m b = logs[\u001b[32m0\u001b[39m][\u001b[32m5\u001b[39m]\n\u001b[32m      3\u001b[39m b_shuffled = b\n",
      "\u001b[31mKeyError\u001b[39m: 4"
     ]
    }
   ],
   "source": [
    "a = logs[0][4]\n",
    "b = logs[0][5]\n",
    "b_shuffled = b\n",
    "random.shuffle(b_shuffled)\n",
    "y = cosine_similarity(a, b)\n",
    "# histogram of y\n",
    "import matplotlib.pyplot as plt\n",
    "\n",
    "plt.hist(y, bins=20)\n",
    "plt.xlabel('Cosine Similarity')\n",
    "plt.ylabel('Frequency')\n",
    "plt.title('Histogram of Cosine Similarity between cls_a and cls_v')\n",
    "plt.show()"
   ]
  },
  {
   "cell_type": "code",
   "execution_count": null,
   "id": "13f14c54",
   "metadata": {},
   "outputs": [
    {
     "data": {
      "text/plain": [
       "<matplotlib.legend.Legend at 0x756a7cb39df0>"
      ]
     },
     "execution_count": 21,
     "metadata": {},
     "output_type": "execute_result"
    },
    {
     "data": {
      "image/png": "[encoded data removed]",
      "text/plain": [
       "<Figure size 640x480 with 1 Axes>"
      ]
     },
     "metadata": {},
     "output_type": "display_data"
    }
   ],
   "source": [
    "# tsne plot of cls_a and cls_v\n",
    "from sklearn.manifold import TSNE   \n",
    "import numpy as np\n",
    "tsne = TSNE(n_components=2, random_state=0)\n",
    "a_2d = tsne.fit_transform(a)\n",
    "\n",
    "# scatter plot of a_2d\n",
    "plt.scatter(a_2d[:, 0], a_2d[:, 1], c='blue', label='cls_a')\n",
    "b_2d = tsne.fit_transform(b)\n",
    "plt.scatter(b_2d[:, 0], b_2d[:, 1], c='red', label='cls_v')\n",
    "plt.xlabel('TSNE Dimension 1')\n",
    "plt.ylabel('TSNE Dimension 2')\n",
    "plt.title('TSNE plot of cls_a and cls_v')\n",
    "plt.legend()"
   ]
  },
  {
   "cell_type": "code",
   "execution_count": null,
   "id": "d59adc41",
   "metadata": {},
   "outputs": [
    {
     "data": {
      "image/png": "[encoded data removed]",
      "text/plain": [
       "<Figure size 640x480 with 1 Axes>"
      ]
     },
     "metadata": {},
     "output_type": "display_data"
    }
   ],
   "source": [
    "# pca\n",
    "from sklearn.decomposition import PCA\n",
    "pca = PCA(n_components=2)\n",
    "a_2d_pca = pca.fit_transform(a)\n",
    "b_2d_pca = pca.fit_transform(b)\n",
    "# scatter plot of a_2d_pca and b_2d_pca\n",
    "plt.scatter(a_2d_pca[:, 0], a_2d_pca[:, 1], c='blue', label='cls_a')\n",
    "plt.scatter(b_2d_pca[:, 0], b_2d_pca[:, 1], c='red', label='cls_v')\n",
    "plt.xlabel('PCA Dimension 1')\n",
    "plt.ylabel('PCA Dimension 2')\n",
    "plt.title('PCA plot of cls_a and cls_v')\n",
    "plt.legend()\n",
    "plt.show()"
   ]
  },
  {
   "cell_type": "code",
   "execution_count": null,
   "id": "718f5965",
   "metadata": {},
   "outputs": [
    {
     "name": "stderr",
     "output_type": "stream",
     "text": [
      "/tmp/ipykernel_1627056/2195032062.py:1: DeprecationWarning: __array__ implementation doesn't accept a copy keyword, so passing copy=False failed. __array__ must implement 'dtype' and 'copy' keyword arguments. To learn more, see the migration guide https://numpy.org/devdocs/numpy_2_0_migration_guide.html#adapting-to-changes-in-the-copy-keyword\n",
      "  np.sum(np.abs(np.array(logs[0][5][0]) - np.array(logs[0][5][3])))\n"
     ]
    },
    {
     "data": {
      "text/plain": [
       "np.float32(50.678024)"
      ]
     },
     "execution_count": 26,
     "metadata": {},
     "output_type": "execute_result"
    }
   ],
   "source": [
    "np.sum(np.abs(np.array(logs[0][5][0]) - np.array(logs[0][5][3])))"
   ]
  },
  {
   "cell_type": "code",
   "execution_count": null,
   "id": "75b91a5d",
   "metadata": {},
   "outputs": [],
   "source": [
    "# scatter plot of cls_a vs cls_v"
   ]
  },
  {
   "cell_type": "code",
   "execution_count": null,
   "id": "b3eaad9e",
   "metadata": {},
   "outputs": [],
   "source": []
  }
 ],
 "metadata": {
  "kernelspec": {
   "display_name": ".venv (3.12.10)",
   "language": "python",
   "name": "python3"
  },
  "language_info": {
   "codemirror_mode": {
    "name": "ipython",
    "version": 3
   },
   "file_extension": ".py",
   "mimetype": "text/x-python",
   "name": "python",
   "nbconvert_exporter": "python",
   "pygments_lexer": "ipython3",
   "version": "3.12.10"
  }
 },
 "nbformat": 4,
 "nbformat_minor": 5
}
